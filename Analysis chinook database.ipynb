{
 "cells": [
  {
   "cell_type": "markdown",
   "metadata": {},
   "source": [
    "#### Connect to the Database"
   ]
  },
  {
   "cell_type": "code",
   "execution_count": 1,
   "metadata": {},
   "outputs": [],
   "source": [
    "# Import the required modules\n",
    "import sqlite3  # SQLite module for database connections and queries\n",
    "import pandas as pd  # Pandas for handling and displaying query results in DataFrames\n",
    "\n",
    "# Connect to the SQLite database\n",
    "# The `connect()` method establishes a connection to the SQLite database file.\n",
    "# If the database file doesn't exist, it will be created.\n",
    "conn = sqlite3.connect(\"Chinook_Sqlite.sqlite\")  \n",
    "\n",
    "# Create a cursor object using the connection\n",
    "# The cursor is used to execute SQL queries and fetch results.\n",
    "cursor = conn.cursor()"
   ]
  },
  {
   "cell_type": "code",
   "execution_count": 3,
   "metadata": {},
   "outputs": [
    {
     "name": "stdout",
     "output_type": "stream",
     "text": [
      "Tables and Record Counts:\n",
      "\n",
      "Table: Album\n",
      "Number of Records: 347\n",
      "Columns: AlbumId, Title, ArtistId\n",
      "\n",
      "Table: Artist\n",
      "Number of Records: 275\n",
      "Columns: ArtistId, Name\n",
      "\n",
      "Table: Customer\n",
      "Number of Records: 59\n",
      "Columns: CustomerId, FirstName, LastName, Company, Address, City, State, Country, PostalCode, Phone, Fax, Email, SupportRepId\n",
      "\n",
      "Table: Employee\n",
      "Number of Records: 8\n",
      "Columns: EmployeeId, LastName, FirstName, Title, ReportsTo, BirthDate, HireDate, Address, City, State, Country, PostalCode, Phone, Fax, Email\n",
      "\n",
      "Table: Genre\n",
      "Number of Records: 25\n",
      "Columns: GenreId, Name\n",
      "\n",
      "Table: Invoice\n",
      "Number of Records: 412\n",
      "Columns: InvoiceId, CustomerId, InvoiceDate, BillingAddress, BillingCity, BillingState, BillingCountry, BillingPostalCode, Total\n",
      "\n",
      "Table: InvoiceLine\n",
      "Number of Records: 2240\n",
      "Columns: InvoiceLineId, InvoiceId, TrackId, UnitPrice, Quantity\n",
      "\n",
      "Table: MediaType\n",
      "Number of Records: 5\n",
      "Columns: MediaTypeId, Name\n",
      "\n",
      "Table: Playlist\n",
      "Number of Records: 18\n",
      "Columns: PlaylistId, Name\n",
      "\n",
      "Table: PlaylistTrack\n",
      "Number of Records: 8715\n",
      "Columns: PlaylistId, TrackId\n",
      "\n",
      "Table: Track\n",
      "Number of Records: 3503\n",
      "Columns: TrackId, Name, AlbumId, MediaTypeId, GenreId, Composer, Milliseconds, Bytes, UnitPrice\n"
     ]
    }
   ],
   "source": [
    "# Execute a query to retrieve the names of all tables in the SQLite database\n",
    "cursor.execute(\"SELECT name FROM sqlite_master WHERE type='table';\")\n",
    "# Fetch all results of the query, which returns a list of tuples, each containing a table name\n",
    "tables = cursor.fetchall()\n",
    "\n",
    "print(\"Tables and Record Counts:\")\n",
    "\n",
    "# Loop through each table name in the 'tables' list\n",
    "for table in tables:\n",
    "    # Extract the table name from the tuple (table[0] because each item in 'tables' is a tuple)\n",
    "    table_name = table[0]\n",
    "\n",
    "    # Execute a query to count the number of records (rows) in the current table\n",
    "    cursor.execute(f\"SELECT COUNT(*) FROM {table_name}\")\n",
    "    # Fetch the result, which is a tuple with a single value (the row count)\n",
    "    record_count = cursor.fetchone()[0]\n",
    "\n",
    "    # Execute a PRAGMA statement to retrieve column information for the current table\n",
    "    cursor.execute(f\"PRAGMA table_info({table_name})\")\n",
    "    # Fetch the results, which include column details (such as column name, type, etc.)\n",
    "    columns = cursor.fetchall()\n",
    "\n",
    "    # Extract the column names from the result, which is a list of tuples (each tuple represents a column)\n",
    "    column_names = [column[1] for column in columns]  # The second element in each tuple is the column name\n",
    "\n",
    "    # Print the table name, number of records, and list of columns\n",
    "    print(f\"\\nTable: {table_name}\")  # Print the table's name\n",
    "    print(f\"Number of Records: {record_count}\")  # Print the count of rows in the table\n",
    "    print(f\"Columns: {', '.join(column_names)}\")  # Print the column names as a comma-separated list\n"
   ]
  },
  {
   "cell_type": "markdown",
   "metadata": {},
   "source": [
    "#### Requirement 1: Complex Joins and CTEs"
   ]
  },
  {
   "cell_type": "code",
   "execution_count": 7,
   "metadata": {},
   "outputs": [
    {
     "name": "stdout",
     "output_type": "stream",
     "text": [
      "   CustomerId FirstName    LastName  TotalSpent\n",
      "0           6    Helena        Holý       49.62\n",
      "1          26   Richard  Cunningham       47.62\n",
      "2          57      Luis       Rojas       46.62\n",
      "3          45  Ladislav      Kovács       45.62\n",
      "4          46      Hugh    O'Reilly       45.62\n",
      "5          37      Fynn  Zimmermann       43.62\n",
      "6          24     Frank     Ralston       43.62\n",
      "7          28     Julia     Barnett       43.62\n",
      "8          25    Victor     Stevens       42.62\n",
      "9           7    Astrid      Gruber       42.62\n"
     ]
    }
   ],
   "source": [
    "# SQL query for complex joins and CTEs (Common Table Expressions)\n",
    "query_complex_joins = \"\"\"\n",
    "WITH CustomerTotalSpending AS (  -- Define a CTE named 'CustomerTotalSpending'\n",
    "    SELECT \n",
    "        c.CustomerId,  -- Select CustomerId from the Customer table\n",
    "        c.FirstName,   -- Select FirstName from the Customer table\n",
    "        c.LastName,    -- Select LastName from the Customer table\n",
    "        SUM(il.UnitPrice * il.Quantity) AS TotalSpent  -- Calculate total spending for each customer by multiplying UnitPrice with Quantity in the InvoiceLine table\n",
    "    FROM Customer c                                         -- Start from the Customer table\n",
    "    INNER JOIN Invoice i ON c.CustomerId = i.CustomerId     -- Perform an INNER JOIN with the Invoice table using the CustomerId column\n",
    "    LEFT JOIN InvoiceLine il ON i.InvoiceId = il.InvoiceId  -- Perform a LEFT JOIN with the InvoiceLine table to get item details from the InvoiceId\n",
    "    GROUP BY c.CustomerId          -- Group the data by CustomerId to aggregate the total spending\n",
    ")\n",
    "SELECT \n",
    "    CustomerId,  -- Select CustomerId from the CTE (CustomerTotalSpending)\n",
    "    FirstName,   -- Select FirstName from the CTE\n",
    "    LastName,    -- Select LastName from the CTE\n",
    "    TotalSpent   -- Select the calculated TotalSpent from the CTE\n",
    "FROM CustomerTotalSpending  -- From the CTE 'CustomerTotalSpending'\n",
    "ORDER BY TotalSpent DESC    -- Order the results by TotalSpent in descending order to get the highest spenders at the top\n",
    "LIMIT 10;                   -- Limit the results to the top 10 customers by total spending\n",
    "\"\"\"\n",
    "\n",
    "# Execute the SQL query and fetch results into a pandas DataFrame\n",
    "result_complex_joins = pd.read_sql_query(query_complex_joins, conn)\n",
    "\n",
    "# Print the results of the query (top 10 customers by total spending)\n",
    "print(result_complex_joins)\n"
   ]
  },
  {
   "cell_type": "markdown",
   "metadata": {},
   "source": [
    "#### Requirement 2: Window Functions for Ranking"
   ]
  },
  {
   "cell_type": "code",
   "execution_count": 9,
   "metadata": {},
   "outputs": [
    {
     "name": "stdout",
     "output_type": "stream",
     "text": [
      "                 ProductName  TotalSales  SalesRank\n",
      "0                The Trooper           5          1\n",
      "1                   Untitled           4          2\n",
      "2    The Number Of The Beast           4          2\n",
      "3        Sure Know Something           4          2\n",
      "4       Hallowed Be Thy Name           4          2\n",
      "5                   Eruption           4          2\n",
      "6          Where Eagles Dare           3          7\n",
      "7  Welcome Home (Sanitarium)           3          7\n",
      "8             Sweetest Thing           3          7\n",
      "9                  Surrender           3          7\n"
     ]
    }
   ],
   "source": [
    "# SQL query for window functions to rank products by total sales\n",
    "query_window_functions = \"\"\"\n",
    "SELECT \n",
    "    t.Name AS ProductName,           -- Select the name of the product from the Track table\n",
    "    SUM(il.Quantity) AS TotalSales,  -- Sum up the quantity sold from the InvoiceLine table to get total sales for each product\n",
    "    RANK() OVER (ORDER BY SUM(il.Quantity) DESC) AS SalesRank  -- Use the RANK() window function to assign a rank based on total sales, in descending order\n",
    "FROM InvoiceLine il                                            -- From the InvoiceLine table, which contains details of the invoice items\n",
    "INNER JOIN Track t ON il.TrackId = t.TrackId                   -- Perform an INNER JOIN with the Track table to get the product names\n",
    "GROUP BY t.Name                                                -- Group the data by product name (Track Name) to calculate the total sales for each product\n",
    "ORDER BY SalesRank                                             -- Order the results by the SalesRank (ascending order of rank)\n",
    "LIMIT 10;                                                      -- Limit the results to the top 10 products based on sales rank\n",
    "\"\"\"\n",
    "\n",
    "# Execute the SQL query and fetch results into a pandas DataFrame\n",
    "result_window_functions = pd.read_sql_query(query_window_functions, conn)\n",
    "\n",
    "# Print the results of the query (top 10 products ranked by total sales)\n",
    "print(result_window_functions)\n"
   ]
  },
  {
   "cell_type": "markdown",
   "metadata": {},
   "source": [
    "#### Requirement 3: Indexing and Performance Optimization"
   ]
  },
  {
   "cell_type": "code",
   "execution_count": 10,
   "metadata": {},
   "outputs": [
    {
     "name": "stdout",
     "output_type": "stream",
     "text": [
      "Executing query without indexing...\n",
      "Execution Time Without Indexing: 0.013862 seconds\n",
      "\n",
      "Top Customers by Total Sales (Without Indexing):\n",
      "   CustomerId        CustomerName  TotalSpent\n",
      "0           6         Helena Holý       49.62\n",
      "1          26  Richard Cunningham       47.62\n",
      "2          57          Luis Rojas       46.62\n",
      "3          46       Hugh O'Reilly       45.62\n",
      "4          45     Ladislav Kovács       45.62\n",
      "\n",
      "Creating index on CustomerId column in Invoice table...\n",
      "Index created successfully.\n",
      "\n",
      "Executing query with indexing...\n",
      "Execution Time With Indexing: 0.009097 seconds\n",
      "\n",
      "--- Query Performance Comparison ---\n",
      "Execution Time Without Indexing: 0.013862 seconds\n",
      "Execution Time With Indexing: 0.009097 seconds\n",
      "\n",
      "------------------------------------\n",
      "\n",
      "Top 5 Customers by Total Sales (With Indexing):\n",
      "   CustomerId        CustomerName  TotalSpent\n",
      "0           6         Helena Holý       49.62\n",
      "1          26  Richard Cunningham       47.62\n",
      "2          57          Luis Rojas       46.62\n",
      "3          46       Hugh O'Reilly       45.62\n",
      "4          45     Ladislav Kovács       45.62\n"
     ]
    }
   ],
   "source": [
    "import time\n",
    "\n",
    "# Function to execute query and measure time\n",
    "def execute_query(query):\n",
    "    start_time = time.time()  # Start measuring time\n",
    "    result = pd.read_sql_query(query, conn)  # Execute query and store the result\n",
    "    end_time = time.time()  # End measuring time\n",
    "    execution_time = end_time - start_time  # Calculate execution time\n",
    "    return result, execution_time\n",
    "\n",
    "# SQL query to list total sales for each customer (without indexing)\n",
    "query_without_index = \"\"\"\n",
    "SELECT \n",
    "    c.CustomerId,\n",
    "    c.FirstName || ' ' || c.LastName AS CustomerName,  -- Combine first and last name to display full customer name\n",
    "    SUM(il.UnitPrice * il.Quantity) AS TotalSpent      -- Calculate total spending by multiplying price and quantity in InvoiceLine table\n",
    "FROM Customer c\n",
    "INNER JOIN Invoice i ON c.CustomerId = i.CustomerId      -- Join Customer table with Invoice table based on CustomerId\n",
    "INNER JOIN InvoiceLine il ON i.InvoiceId = il.InvoiceId  -- Join Invoice table with InvoiceLine table based on InvoiceId\n",
    "GROUP BY c.CustomerId                                    -- Group by customer to calculate total spending per customer\n",
    "ORDER BY TotalSpent DESC;                                -- Order the results by total spending, in descending order\n",
    "\"\"\"\n",
    "\n",
    "# Step 1: Execute the query without indexing\n",
    "print(\"Executing query without indexing...\")\n",
    "result_without_index, execution_time_without_index = execute_query(query_without_index)  # Execute the query\n",
    "print(f\"Execution Time Without Indexing: {execution_time_without_index:.6f} seconds\")  # Print execution time\n",
    "\n",
    "# Display the top results without indexing\n",
    "print(\"\\nTop Customers by Total Sales (Without Indexing):\")\n",
    "print(result_without_index.head())  # Display the first few rows of the result\n",
    "\n",
    "# Step 2: Create an index on the CustomerId column in the Invoice table\n",
    "print(\"\\nCreating index on CustomerId column in Invoice table...\")\n",
    "create_index_query = \"CREATE INDEX IF NOT EXISTS idx_invoice_customerid ON Invoice (CustomerId);\"  # Create index query\n",
    "conn.execute(create_index_query)  # Execute the index creation query\n",
    "conn.commit()  # Commit the changes to the database\n",
    "print(\"Index created successfully.\")  # Print success message\n",
    "\n",
    "# Step 3: Execute the query with indexing\n",
    "print(\"\\nExecuting query with indexing...\")\n",
    "result_with_index, execution_time_with_index = execute_query(query_without_index)  # Execute the same query again with the index\n",
    "print(f\"Execution Time With Indexing: {execution_time_with_index:.6f} seconds\")  # Print execution time with indexing\n",
    "\n",
    "# Step 4: Compare the execution times\n",
    "print(\"\\n--- Query Performance Comparison ---\")\n",
    "print(f\"Execution Time Without Indexing: {execution_time_without_index:.6f} seconds\")  # Print comparison\n",
    "print(f\"Execution Time With Indexing: {execution_time_with_index:.6f} seconds\")  # Print comparison\n",
    "print(\"\\n------------------------------------\")\n",
    "\n",
    "#Display the results (Top 5 customers)\n",
    "print(\"\\nTop 5 Customers by Total Sales (With Indexing):\")\n",
    "print(result_with_index.head())  # Display the top 5 customers with indexing\n"
   ]
  },
  {
   "cell_type": "code",
   "execution_count": 11,
   "metadata": {},
   "outputs": [],
   "source": [
    "# Close the database connection\n",
    "conn.close()"
   ]
  }
 ],
 "metadata": {
  "kernelspec": {
   "display_name": "Python 3",
   "language": "python",
   "name": "python3"
  },
  "language_info": {
   "codemirror_mode": {
    "name": "ipython",
    "version": 3
   },
   "file_extension": ".py",
   "mimetype": "text/x-python",
   "name": "python",
   "nbconvert_exporter": "python",
   "pygments_lexer": "ipython3",
   "version": "3.11.3"
  }
 },
 "nbformat": 4,
 "nbformat_minor": 2
}
